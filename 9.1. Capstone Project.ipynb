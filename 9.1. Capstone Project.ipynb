{
 "cells": [
  {
   "cell_type": "markdown",
   "metadata": {},
   "source": [
    "# __Capstone Project Notebook__\n",
    "***\n",
    "### *Instructions:*\n",
    "*Start a Jupyter Notebook using any platform that you are comfortable with and do the following:*  \n",
    "\n",
    "    1.Write some markdown to explain that this notebook will be mainly used for the capstone project.  \n",
    "    2.Import the pandas library as pd.  \n",
    "    3.Import the Numpy library as np.  \n",
    "    4.Print the following the statement: Hello Capstone Project Course!  \n",
    "*Push the Notebook to your Github repository and submit a link to the notebook on your Github repository.*\n",
    "***"
   ]
  },
  {
   "cell_type": "markdown",
   "metadata": {},
   "source": [
    "1. *This notebook will be mainly used for the capstone project.*"
   ]
  },
  {
   "cell_type": "code",
   "execution_count": 7,
   "metadata": {},
   "outputs": [],
   "source": [
    "# 2.Import the pandas library as pd.\n",
    "import pandas as pd"
   ]
  },
  {
   "cell_type": "code",
   "execution_count": 8,
   "metadata": {},
   "outputs": [],
   "source": [
    "# 3.Import the Numpy library as np.\n",
    "import numpy as np"
   ]
  },
  {
   "cell_type": "code",
   "execution_count": 10,
   "metadata": {},
   "outputs": [
    {
     "name": "stdout",
     "output_type": "stream",
     "text": [
      "Hello Capstone Project Course!\n"
     ]
    }
   ],
   "source": [
    "# 4.Print the following the statement: Hello Capstone Project Course!\n",
    "print(\"Hello Capstone Project Course!\")"
   ]
  }
 ],
 "metadata": {
  "kernelspec": {
   "display_name": "Python",
   "language": "python",
   "name": "conda-env-python-py"
  },
  "language_info": {
   "codemirror_mode": {
    "name": "ipython",
    "version": 3
   },
   "file_extension": ".py",
   "mimetype": "text/x-python",
   "name": "python",
   "nbconvert_exporter": "python",
   "pygments_lexer": "ipython3",
   "version": "3.6.10"
  }
 },
 "nbformat": 4,
 "nbformat_minor": 4
}
